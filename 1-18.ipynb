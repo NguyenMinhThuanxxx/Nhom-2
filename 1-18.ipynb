{
 "cells": [
  {
   "cell_type": "code",
   "execution_count": 1,
   "id": "75732229",
   "metadata": {},
   "outputs": [
    {
     "data": {
      "text/html": [
       "<div>\n",
       "<style scoped>\n",
       "    .dataframe tbody tr th:only-of-type {\n",
       "        vertical-align: middle;\n",
       "    }\n",
       "\n",
       "    .dataframe tbody tr th {\n",
       "        vertical-align: top;\n",
       "    }\n",
       "\n",
       "    .dataframe thead th {\n",
       "        text-align: right;\n",
       "    }\n",
       "</style>\n",
       "<table border=\"1\" class=\"dataframe\">\n",
       "  <thead>\n",
       "    <tr style=\"text-align: right;\">\n",
       "      <th></th>\n",
       "      <th>nearc4</th>\n",
       "      <th>educ</th>\n",
       "      <th>age</th>\n",
       "      <th>black</th>\n",
       "      <th>wage</th>\n",
       "      <th>IQ</th>\n",
       "      <th>married</th>\n",
       "      <th>exper</th>\n",
       "      <th>lwage</th>\n",
       "      <th>expersq</th>\n",
       "    </tr>\n",
       "  </thead>\n",
       "  <tbody>\n",
       "    <tr>\n",
       "      <th>0</th>\n",
       "      <td>0</td>\n",
       "      <td>7</td>\n",
       "      <td>29</td>\n",
       "      <td>1</td>\n",
       "      <td>548</td>\n",
       "      <td>NaN</td>\n",
       "      <td>1.0</td>\n",
       "      <td>16</td>\n",
       "      <td>6.306275</td>\n",
       "      <td>256</td>\n",
       "    </tr>\n",
       "    <tr>\n",
       "      <th>1</th>\n",
       "      <td>0</td>\n",
       "      <td>12</td>\n",
       "      <td>27</td>\n",
       "      <td>0</td>\n",
       "      <td>481</td>\n",
       "      <td>93.0</td>\n",
       "      <td>1.0</td>\n",
       "      <td>9</td>\n",
       "      <td>6.175867</td>\n",
       "      <td>81</td>\n",
       "    </tr>\n",
       "    <tr>\n",
       "      <th>2</th>\n",
       "      <td>0</td>\n",
       "      <td>12</td>\n",
       "      <td>34</td>\n",
       "      <td>0</td>\n",
       "      <td>721</td>\n",
       "      <td>103.0</td>\n",
       "      <td>1.0</td>\n",
       "      <td>16</td>\n",
       "      <td>6.580639</td>\n",
       "      <td>256</td>\n",
       "    </tr>\n",
       "    <tr>\n",
       "      <th>3</th>\n",
       "      <td>1</td>\n",
       "      <td>11</td>\n",
       "      <td>27</td>\n",
       "      <td>0</td>\n",
       "      <td>250</td>\n",
       "      <td>88.0</td>\n",
       "      <td>1.0</td>\n",
       "      <td>10</td>\n",
       "      <td>5.521461</td>\n",
       "      <td>100</td>\n",
       "    </tr>\n",
       "    <tr>\n",
       "      <th>4</th>\n",
       "      <td>1</td>\n",
       "      <td>12</td>\n",
       "      <td>34</td>\n",
       "      <td>0</td>\n",
       "      <td>729</td>\n",
       "      <td>108.0</td>\n",
       "      <td>1.0</td>\n",
       "      <td>16</td>\n",
       "      <td>6.591674</td>\n",
       "      <td>256</td>\n",
       "    </tr>\n",
       "  </tbody>\n",
       "</table>\n",
       "</div>"
      ],
      "text/plain": [
       "   nearc4  educ  age  black  wage     IQ  married  exper     lwage  expersq\n",
       "0       0     7   29      1   548    NaN      1.0     16  6.306275      256\n",
       "1       0    12   27      0   481   93.0      1.0      9  6.175867       81\n",
       "2       0    12   34      0   721  103.0      1.0     16  6.580639      256\n",
       "3       1    11   27      0   250   88.0      1.0     10  5.521461      100\n",
       "4       1    12   34      0   729  108.0      1.0     16  6.591674      256"
      ]
     },
     "execution_count": 1,
     "metadata": {},
     "output_type": "execute_result"
    }
   ],
   "source": [
    "import numpy as np\n",
    "import pandas as pd\n",
    "import math\n",
    "\n",
    "column_names = ['nearc4', 'educ', 'age', 'black', 'wage', 'IQ', 'married', 'exper', 'lwage', 'expersq']\n",
    "df = pd.read_csv('wage.csv')\n",
    "t = pd.DataFrame(df, columns = column_names)\n",
    "t.head()"
   ]
  },
  {
   "cell_type": "code",
   "execution_count": 2,
   "id": "238e284e",
   "metadata": {},
   "outputs": [
    {
     "name": "stdout",
     "output_type": "stream",
     "text": [
      "1.\n",
      "Percent of black people:  23.35548172757475 %\n",
      "Number of black people in this sample of 30:  4\n",
      "The probability that there are 6 black ones:  16.2742603399912 %\n"
     ]
    }
   ],
   "source": [
    "from scipy.stats import binom\n",
    "print(\"1.\")\n",
    "\n",
    "black = t['black'] #table's black column\n",
    "blackPercent = np.sum(black)/len(black)\n",
    "print(\"Percent of black people: \", blackPercent*100, \"%\")\n",
    "t2 = t.sample(n=30) #30 samples from original table, aka subsample\n",
    "black = t2['black']\n",
    "blackCount30 = np.sum(black)\n",
    "print(\"Number of black people in this sample of 30: \", blackCount30)\n",
    "#x = number of black people, n = sample size, p = blackPercent\n",
    "probabilityOf6Black = binom.pmf(6, 30, blackPercent)\n",
    "print(\"The probability that there are 6 black ones: \", probabilityOf6Black*100, \"%\")"
   ]
  },
  {
   "cell_type": "code",
   "execution_count": 3,
   "id": "e94a8a5b",
   "metadata": {},
   "outputs": [
    {
     "name": "stdout",
     "output_type": "stream",
     "text": [
      "2.\n",
      "Number of black people in this sample of 5:  0\n",
      "Probability of at least 1 in 5 people is black:  53.84054004743659 %\n"
     ]
    }
   ],
   "source": [
    "from scipy.stats import hypergeom\n",
    "print(\"2.\")\n",
    "\n",
    "t3 = t2.sample(n=5) #5 samples from table of 30\n",
    "black = t3['black']\n",
    "print(\"Number of black people in this sample of 5: \", np.sum(black)) \n",
    "#x = number of black people that we want, N = original size, K = number of black people that are already in, n = size that we choose to pick\n",
    "probabilityAtLeast1Black = 1 - hypergeom.pmf(0, 30, blackCount30, 5)\n",
    "print(\"Probability of at least 1 in 5 people is black: \", probabilityAtLeast1Black*100, \"%\")"
   ]
  },
  {
   "cell_type": "code",
   "execution_count": 4,
   "id": "17484dd3",
   "metadata": {},
   "outputs": [
    {
     "name": "stdout",
     "output_type": "stream",
     "text": [
      "3.\n",
      "Percent of black people:  0.132890365448505 %\n",
      "a) Number of black people I expect:  0\n",
      "b) Number of black people in the data:  0\n"
     ]
    }
   ],
   "source": [
    "print(\"3.\")\n",
    "\n",
    "newT = pd.DataFrame({'black': [1]*blackCount30 + [0]*(len(df)-blackCount30)}) #generate new table with black count = subsample's black count\n",
    "black = newT['black'] #table's black column\n",
    "blackPercent = np.sum(black)/len(black)\n",
    "print(\"Percent of black people: \", blackPercent*100, \"%\")\n",
    "newT2 = newT.sample(n=30)\n",
    "black = newT2['black']\n",
    "newBlackCount30 = np.sum(black)\n",
    "print(\"a) Number of black people I expect: \", 0)\n",
    "print(\"b) Number of black people in the data: \", newBlackCount30)"
   ]
  },
  {
   "cell_type": "code",
   "execution_count": 5,
   "id": "785bc527",
   "metadata": {},
   "outputs": [
    {
     "name": "stdout",
     "output_type": "stream",
     "text": [
      "4.\n",
      "The probability of choosing a person with 6 years of education: 1.1526424471482535 %\n"
     ]
    }
   ],
   "source": [
    "print(\"4.\")\n",
    "\n",
    "educ = t2['educ']\n",
    "sampleMean = np.sum(educ)/len(educ)\n",
    "#math.exp(x) = e^x; P(X = k) = (e^(-mean)*mean^k)/k!\n",
    "prob6Educ = (math.exp(-sampleMean) * np.power(sampleMean, 6)) / math.factorial(6)\n",
    "print(\"The probability of choosing a person with 6 years of education:\", prob6Educ*100, \"%\")"
   ]
  },
  {
   "cell_type": "code",
   "execution_count": 6,
   "id": "796d861f",
   "metadata": {},
   "outputs": [
    {
     "name": "stdout",
     "output_type": "stream",
     "text": [
      "5.\n",
      "Mean:  29.0 , Variance:  10.0\n",
      "Sample mean:  29.0 , Sample variance:  10.0\n"
     ]
    },
    {
     "data": {
      "image/png": "[encoded data removed]",
      "text/plain": [
       "<Figure size 640x480 with 1 Axes>"
      ]
     },
     "metadata": {},
     "output_type": "display_data"
    },
    {
     "name": "stdout",
     "output_type": "stream",
     "text": [
      "Based on the survey's data, age is not a uniform distribution.\n"
     ]
    }
   ],
   "source": [
    "import matplotlib.pyplot as plt\n",
    "print(\"5.\")\n",
    "\n",
    "a = 24\n",
    "b = 34\n",
    "mean = (a + b)/2\n",
    "variance = (np.power((b - a + 1), 2) - 1)/12\n",
    "# print(\"Min: \", a, \", Max: \", b)\n",
    "print(\"Mean: \", mean, \", Variance: \", variance)\n",
    "a = t2['age'].min()\n",
    "b = t2['age'].max()\n",
    "meanSample = (a + b)/2\n",
    "varianceSample = (np.power((b - a + 1), 2) - 1)/12\n",
    "# print(\"Sample min: \", a, \", Sample max: \", b)\n",
    "print(\"Sample mean: \", meanSample, \", Sample variance: \", varianceSample)\n",
    "\n",
    "tAge = t['age'].value_counts()\n",
    "tAge = tAge.sort_index(ascending=True)\n",
    "# print(tAge)\n",
    "\n",
    "# Define the data for the bar chart\n",
    "x_values = tAge.index.tolist()\n",
    "y_values = tAge.values.tolist()\n",
    "\n",
    "# Create the bar chart\n",
    "plt.bar(x_values, y_values)\n",
    "\n",
    "# Add labels for the x and y axis and a title\n",
    "plt.xlabel(\"Age  (int)\")\n",
    "plt.ylabel(\"Population (person)\")\n",
    "plt.title('Age Chart')\n",
    "\n",
    "# Display the bar chart\n",
    "plt.show()\n",
    "\n",
    "print(\"Based on the survey's data, age is not a uniform distribution.\")"
   ]
  },
  {
   "cell_type": "code",
   "execution_count": 7,
   "id": "7c250ed6",
   "metadata": {},
   "outputs": [
    {
     "name": "stdout",
     "output_type": "stream",
     "text": [
      "6.\n",
      "The probability of lwage being between 5 and 6 is: 0.2752\n"
     ]
    }
   ],
   "source": [
    "from scipy.stats import norm\n",
    "print(\"6.\")\n",
    "\n",
    "# set the mean and standard deviation\n",
    "mu = 6.26\n",
    "sigma = 0.44\n",
    "\n",
    "# find the z-scores for the lower and upper bounds\n",
    "z1 = (5 - mu) / sigma\n",
    "z2 = (6 - mu) / sigma\n",
    "\n",
    "# find the probability using the cumulative distribution function\n",
    "prob = norm.cdf(z2) - norm.cdf(z1)\n",
    "\n",
    "# print the result\n",
    "print(\"The probability of lwage being between 5 and 6 is:\", round(prob, 4))"
   ]
  },
  {
   "cell_type": "code",
   "execution_count": 8,
   "id": "6aec22e5",
   "metadata": {},
   "outputs": [
    {
     "name": "stdout",
     "output_type": "stream",
     "text": [
      "7.\n",
      "a) The probability that the sample mean of IQ lies in [100, 110] is: 0.663\n",
      "b) The sample size needed for a standard error of 1 is: 45972\n"
     ]
    }
   ],
   "source": [
    "import numpy as np\n",
    "from scipy.stats import norm\n",
    "print(\"7.\")\n",
    "\n",
    "t2= t.sample(n=20)\n",
    "IQ= t2['IQ']\n",
    "\n",
    "# set the population mean and standard deviation\n",
    "mu = np.mean(IQ)\n",
    "sigma = np.std(IQ)\n",
    "\n",
    "# set the sample size\n",
    "n = 20\n",
    "\n",
    "# calculate the standard deviation of the sample mean\n",
    "se = sigma / np.sqrt(n)\n",
    "\n",
    "# calculate the z-scores for the lower and upper bounds\n",
    "z1 = (100 - mu) / se\n",
    "z2 = (110 - mu) / se\n",
    "\n",
    "# find the probability using the cumulative distribution function\n",
    "prob = norm.cdf(z2) - norm.cdf(z1)\n",
    "\n",
    "# print the result\n",
    "print(\"a) The probability that the sample mean of IQ lies in [100, 110] is:\", round(prob, 4))\n",
    "\n",
    "# find the sample size for a standard error of 1\n",
    "n = int(np.ceil(sigma**4))\n",
    "\n",
    "# print the result\n",
    "print(\"b) The sample size needed for a standard error of 1 is:\", n)"
   ]
  },
  {
   "cell_type": "code",
   "execution_count": 9,
   "id": "018ec7c6",
   "metadata": {},
   "outputs": [
    {
     "name": "stdout",
     "output_type": "stream",
     "text": [
      "8.\n",
      "Summary statistics for wage:\n",
      " count    3010.000000\n",
      "mean      577.282392\n",
      "std       262.958302\n",
      "min       100.000000\n",
      "25%       394.250000\n",
      "50%       537.500000\n",
      "75%       708.750000\n",
      "max      2404.000000\n",
      "Name: wage, dtype: float64\n",
      "\n",
      "Summary statistics for IQ:\n",
      " count    2061.000000\n",
      "mean      102.449782\n",
      "std        15.423756\n",
      "min        50.000000\n",
      "25%        93.000000\n",
      "50%       103.000000\n",
      "75%       113.000000\n",
      "max       149.000000\n",
      "Name: IQ, dtype: float64\n",
      "\n",
      "Summary statistics for educ:\n",
      " count    3010.000000\n",
      "mean       13.263455\n",
      "std         2.676913\n",
      "min         1.000000\n",
      "25%        12.000000\n",
      "50%        13.000000\n",
      "75%        16.000000\n",
      "max        18.000000\n",
      "Name: educ, dtype: float64\n",
      "\n",
      "Summary statistics for exper:\n",
      " count    3010.000000\n",
      "mean        8.856146\n",
      "std         4.141672\n",
      "min         0.000000\n",
      "25%         6.000000\n",
      "50%         8.000000\n",
      "75%        11.000000\n",
      "max        23.000000\n",
      "Name: exper, dtype: float64\n"
     ]
    }
   ],
   "source": [
    "import pandas as pd\n",
    "print(\"8.\")\n",
    "\n",
    "# read the data into a DataFrame object\n",
    "data = pd.read_csv(\"wage.csv\")\n",
    "\n",
    "# calculate the summary statistics for each variable\n",
    "wage_stats = data[\"wage\"].describe()\n",
    "iq_stats = data[\"IQ\"].describe()\n",
    "educ_stats = data[\"educ\"].describe()\n",
    "exper_stats = data[\"exper\"].describe()\n",
    "\n",
    "# print the summary statistics\n",
    "print(\"Summary statistics for wage:\\n\", wage_stats)\n",
    "print('')\n",
    "print(\"Summary statistics for IQ:\\n\", iq_stats)\n",
    "print('')\n",
    "print(\"Summary statistics for educ:\\n\", educ_stats)\n",
    "print('')\n",
    "print(\"Summary statistics for exper:\\n\", exper_stats)"
   ]
  },
  {
   "cell_type": "code",
   "execution_count": 10,
   "id": "e5a5f255",
   "metadata": {},
   "outputs": [
    {
     "name": "stdout",
     "output_type": "stream",
     "text": [
      "9.\n",
      "The point estimation of mean of IQ is: 102.45\n",
      "The point estimation of variance of IQ is: 237.89\n"
     ]
    }
   ],
   "source": [
    "import pandas as pd\n",
    "print(\"9.\")\n",
    "\n",
    "# read the data into a DataFrame object\n",
    "data = pd.read_csv(\"wage.csv\")\n",
    "\n",
    "# calculate the sample mean and sample variance of IQ\n",
    "iq_mean = data[\"IQ\"].mean()\n",
    "iq_var = data[\"IQ\"].var()\n",
    "\n",
    "# print the point estimates\n",
    "print(\"The point estimation of mean of IQ is:\", round(iq_mean, 2))\n",
    "print(\"The point estimation of variance of IQ is:\", round(iq_var, 2))"
   ]
  },
  {
   "cell_type": "code",
   "execution_count": 11,
   "id": "d1ea8458",
   "metadata": {},
   "outputs": [
    {
     "name": "stdout",
     "output_type": "stream",
     "text": [
      "10.\n",
      "95% Confidence Interval: (6.29, 6.32)\n"
     ]
    }
   ],
   "source": [
    "import scipy.stats as stats\n",
    "print(\"10.\")\n",
    "\n",
    "lwage_std_dev = 0.44   # standard deviation of lwage\n",
    "n = len(t['lwage']) \n",
    "\n",
    "# The 95% confidence level corresponds to a significance level of alpha = 0.05\n",
    "alpha = 0.05\n",
    "\n",
    "# Calculate the critical value using the t-distribution\n",
    "df = n - 1   # degrees of freedom\n",
    "t_crit = stats.t.ppf(1 - alpha/2, df)\n",
    "\n",
    "# Calculate the margin of error\n",
    "margin_of_error = t_crit * (lwage_std_dev / (n**0.5))\n",
    "\n",
    "# Calculate the confidence interval\n",
    "lwage_mean = 6.306275   # assumed mean value of lwage\n",
    "lower_bound = lwage_mean - margin_of_error\n",
    "upper_bound = lwage_mean + margin_of_error\n",
    "\n",
    "print(\"95% Confidence Interval: ({:.2f}, {:.2f})\".format(lower_bound, upper_bound))"
   ]
  },
  {
   "cell_type": "code",
   "execution_count": 12,
   "id": "85e95293",
   "metadata": {},
   "outputs": [
    {
     "name": "stdout",
     "output_type": "stream",
     "text": [
      "11.\n",
      "Sample mean: 103.80\n",
      "Margin of error: 6.16\n",
      "Confidence interval: (97.64, 109.96)\n"
     ]
    }
   ],
   "source": [
    "import pandas as pd\n",
    "import numpy as np\n",
    "from scipy.stats import t\n",
    "print(\"11.\")\n",
    "\n",
    "# Read data from CSV file\n",
    "df = pd.read_csv(\"wage.csv\")\n",
    "\n",
    "# Remove NaN values from IQ column\n",
    "df = df[~np.isnan(df[\"IQ\"])]\n",
    "\n",
    "# Extract IQ data from table\n",
    "sample_iq = df[\"IQ\"].sample(30).tolist()\n",
    "\n",
    "# Calculate sample mean and standard deviation\n",
    "sample_mean = np.mean(sample_iq)\n",
    "sample_std = np.std(sample_iq, ddof=1)\n",
    "\n",
    "# Set confidence level\n",
    "confidence_level = 0.96\n",
    "\n",
    "# Calculate degrees of freedom\n",
    "df = len(sample_iq) - 1\n",
    "\n",
    "# Calculate critical value\n",
    "alpha = 1 - confidence_level\n",
    "t_crit = t.ppf(1 - alpha/2, df)\n",
    "\n",
    "# Calculate margin of error\n",
    "moe = t_crit * sample_std / np.sqrt(len(sample_iq))\n",
    "\n",
    "# Calculate lower and upper bounds of confidence interval\n",
    "lower_bound = sample_mean - moe\n",
    "upper_bound = sample_mean + moe\n",
    "\n",
    "# Print results\n",
    "print(\"Sample mean: {:.2f}\".format(sample_mean))\n",
    "print(\"Margin of error: {:.2f}\".format(moe))\n",
    "print(\"Confidence interval: ({:.2f}, {:.2f})\".format(lower_bound, upper_bound))"
   ]
  },
  {
   "cell_type": "code",
   "execution_count": 13,
   "id": "2a3ccffb",
   "metadata": {},
   "outputs": [
    {
     "name": "stdout",
     "output_type": "stream",
     "text": [
      "12.\n",
      "The required sample size is: 19.0\n"
     ]
    }
   ],
   "source": [
    "import pandas as pd\n",
    "import numpy as np\n",
    "from scipy import stats\n",
    "print(\"12.\")\n",
    "\n",
    "# load data from csv file\n",
    "data = pd.read_csv('wage.csv')\n",
    "\n",
    "# calculate required sample size\n",
    "z_score = stats.norm.ppf(0.975)  # for 95% confidence\n",
    "sigma = 0.44\n",
    "error = 0.2\n",
    "n = ((z_score * sigma) / error) ** 2\n",
    "\n",
    "print(\"The required sample size is:\", np.ceil(n))"
   ]
  },
  {
   "cell_type": "code",
   "execution_count": 14,
   "id": "e6e4b5d1",
   "metadata": {},
   "outputs": [
    {
     "name": "stdout",
     "output_type": "stream",
     "text": [
      "13.\n",
      "The 99% confidence interval is: (0.6816998921586691, 0.6824197091702345)\n"
     ]
    }
   ],
   "source": [
    "import pandas as pd\n",
    "from scipy import stats\n",
    "print(\"13.\")\n",
    "\n",
    "# load data from csv file\n",
    "data = pd.read_csv('wage.csv')\n",
    "\n",
    "# calculate sample proportion of nearc4\n",
    "p_hat = data['nearc4'].sum() / len(data)\n",
    "\n",
    "# calculate standard deviation of population\n",
    "sigma = ((p_hat * (1 - p_hat)) / len(data)) ** 0.5\n",
    "\n",
    "# calculate z-score for 99% confidence interval\n",
    "z_score = stats.norm.ppf(0.99)\n",
    "\n",
    "# calculate margin of error and confidence interval\n",
    "margin_of_error = z_score * (sigma / (len(data) ** 0.5))\n",
    "confidence_interval = (p_hat - margin_of_error, p_hat + margin_of_error)\n",
    "\n",
    "print(\"The 99% confidence interval is:\", confidence_interval)"
   ]
  },
  {
   "cell_type": "code",
   "execution_count": 15,
   "id": "a6864767",
   "metadata": {},
   "outputs": [
    {
     "name": "stdout",
     "output_type": "stream",
     "text": [
      "14.\n",
      "Proportion of blacks: 0.0592\n",
      "99% Confidence interval: [0.0536, 0.0648]\n",
      "Sample size should be used: 11877\n"
     ]
    }
   ],
   "source": [
    "import pandas as pd\n",
    "from scipy.stats import norm\n",
    "print(\"14.\")\n",
    "\n",
    "# load data from wage.csv file\n",
    "df = pd.read_csv(\"wage.csv\")\n",
    "\n",
    "# find critical value for 99% confidence level\n",
    "Z = norm.ppf(0.99)\n",
    "\n",
    "# calculate sample size for proportion\n",
    "p_hat = df[df[\"black\"] == 1][\"black\"].count()/len(df)\n",
    "E = 0.01\n",
    "n = (Z**2 * p_hat * (1 - p_hat)) / E**2\n",
    "\n",
    "# round up the sample size to the nearest integer\n",
    "n = int(round(n))\n",
    "\n",
    "# count the number of observations where black=1\n",
    "num_black = df[df[\"black\"] == 1][\"black\"].count()\n",
    "\n",
    "# calculate the proportion of blacks in the sample\n",
    "p = num_black / n\n",
    "\n",
    "# calculate the lower and upper bounds of the confidence interval\n",
    "lower = p - Z * (p*(1-p)/n)**0.5\n",
    "upper = p + Z * (p*(1-p)/n)**0.5\n",
    "\n",
    "# print the results\n",
    "print(f\"Proportion of blacks: {p:.4f}\")\n",
    "print(f\"99% Confidence interval: [{lower:.4f}, {upper:.4f}]\")\n",
    "print(f\"Sample size should be used: {n}\")"
   ]
  },
  {
   "cell_type": "code",
   "execution_count": 16,
   "id": "8c2ba625",
   "metadata": {},
   "outputs": [
    {
     "name": "stdout",
     "output_type": "stream",
     "text": [
      "15.\n",
      "t_0: 2.705901838926307\n",
      "z_alpha: (-2.5279770027405464, 2.527977002740546)\n",
      "Reject the null hypothesis\n"
     ]
    }
   ],
   "source": [
    "# question_15\n",
    "import numpy as np\n",
    "from scipy.stats import t as st\n",
    "t = pd.DataFrame(df, columns = column_names)\n",
    "print(\"15.\")\n",
    "\n",
    "# Define the sample data\n",
    "sample = t['IQ'].sample(n=30)\n",
    "\n",
    "# Remove the NaN values\n",
    "sample = np.array(sample)\n",
    "sample = sample[~np.isnan(sample)]\n",
    "\n",
    "# Define the null and alternative hypotheses\n",
    "mu_0 = 100\n",
    "alpha = 0.02\n",
    "n = len(sample)\n",
    "std = 15\n",
    "\n",
    "# Calculate the test statistic\n",
    "z_0 = (np.mean(sample) - mu_0) / (std / np.sqrt(n))\n",
    "\n",
    "# Calculate the critical values\n",
    "z_alpha = st.ppf(alpha/2, n-1), st.ppf(1-alpha/2, n-1)\n",
    "\n",
    "# # Calculate the p-value\n",
    "# p_value = 2 * t.sf(np.abs(z_0), n-1)\n",
    "\n",
    "print(\"t_0:\", z_0)\n",
    "print(\"z_alpha:\", z_alpha)\n",
    "# print(\"p-value:\", p_value)\n",
    "\n",
    "# Make a decision and interpret the results\n",
    "if np.abs(z_0) > st.ppf(1-alpha/2, n-1):\n",
    "    print(\"Reject the null hypothesis\")\n",
    "elif np.abs(z_0) < st.ppf(alpha/2, n-1):\n",
    "    print(\"Reject the null hypothesis\")\n",
    "else:\n",
    "    print(\"Fail to reject the null hypothesis\")"
   ]
  },
  {
   "cell_type": "code",
   "execution_count": 17,
   "id": "ce87e995",
   "metadata": {},
   "outputs": [
    {
     "name": "stdout",
     "output_type": "stream",
     "text": [
      "16.\n",
      "t-0: 1.99\n",
      "t_alpha: 1.31\n",
      "Reject null hypothesis\n"
     ]
    }
   ],
   "source": [
    "# question_16\n",
    "import numpy as np\n",
    "from scipy.stats import t as st\n",
    "import pandas as pd\n",
    "print(\"16.\")\n",
    "\n",
    "sample = t['lwage'].sample(n=30)\n",
    "lwage = np.array(sample)\n",
    "\n",
    "# calculate sample mean, standard deviation, and size\n",
    "x_bar = np.mean(lwage)\n",
    "s = np.std(lwage, ddof=1)\n",
    "n = len(lwage)\n",
    "\n",
    "# set null hypothesis and significance level\n",
    "mu_0 = 6\n",
    "alpha = 0.1\n",
    "\n",
    "# calculate t-statistic\n",
    "t_0 = (x_bar - mu_0) / (s / np.sqrt(n))\n",
    "print(\"t-0: {:.2f}\".format(t_0))\n",
    "\n",
    "# find critical value\n",
    "df = n - 1\n",
    "t_alpha = st.ppf(1 - alpha, df)\n",
    "print(\"t_alpha: {:.2f}\".format(t_alpha))\n",
    "\n",
    "# check\n",
    "if t_0 > t_alpha:\n",
    "    print(\"Reject null hypothesis\")\n",
    "else:\n",
    "    print(\"Fail to reject null hypothesis\")"
   ]
  },
  {
   "cell_type": "code",
   "execution_count": 18,
   "id": "9e886886",
   "metadata": {},
   "outputs": [
    {
     "name": "stdout",
     "output_type": "stream",
     "text": [
      "17.\n",
      "z_0 : 117.11\n",
      "z_alpha : 2.05\n",
      "Reject the null hypothesis\n"
     ]
    }
   ],
   "source": [
    "# question_17:\n",
    "import math\n",
    "from scipy.stats import norm\n",
    "print(\"17.\")\n",
    "\n",
    "# Sample size\n",
    "n = len(t['exper'])\n",
    "\n",
    "# Number of people with less than 10 years of work experience\n",
    "x = len(t[t['exper'] < 10])\n",
    "\n",
    "# Null hypothesis proportion\n",
    "p0 = 0.07\n",
    "\n",
    "# Sample proportion\n",
    "p_hat = x / n\n",
    "\n",
    "# Test statistic\n",
    "z0 = (p_hat - p0) / math.sqrt(p0*(1-p0)/n)\n",
    "\n",
    "# Calculate the critical value for one-tailed test with alpha=0.02\n",
    "alpha = 0.02\n",
    "z_alpha = norm.ppf(1-alpha, loc=0, scale=1)\n",
    "\n",
    "print(\"z_0 : {:.2f}\".format(z0))\n",
    "print(\"z_alpha : {:.2f}\".format(z_alpha))\n",
    "\n",
    "# Check \n",
    "if z0 > z_alpha:\n",
    "    print(\"Reject the null hypothesis\")\n",
    "else:\n",
    "    print(\"Fail to reject the null hypothesis\")"
   ]
  },
  {
   "cell_type": "code",
   "execution_count": 19,
   "id": "94d152fb",
   "metadata": {},
   "outputs": [
    {
     "name": "stdout",
     "output_type": "stream",
     "text": [
      "18.\n",
      "a)\n",
      "Null hypothesis: mean of black wage = mean of non-black wage\n",
      "t_0: -2.8154834829973754\n",
      "t_alpha: 2.4671400979674316\n",
      "Reject the null hypothesis\n",
      "b)\n",
      "Null hypothesis: proportion of blackIQ < 90 = proportion of non-blackIQ < 90\n",
      "z_0: 1.0978875820671\n",
      "z_alpha: 1.959963984540054\n",
      "Fail to reject the null hypothesis.\n",
      "c)\n",
      "Null hypothesis: variance of black lwage = variance of non-black lwage\n",
      "p_value: 0.0016417957933244863\n",
      "alpha: 0.01\n",
      "Reject the null hypothesis.\n"
     ]
    }
   ],
   "source": [
    "# question_18:\n",
    "import numpy as np\n",
    "import scipy.stats as stats\n",
    "from scipy.stats import ttest_ind\n",
    "print(\"18.\")\n",
    "\n",
    "#sample\n",
    "sample = t.sample(n=30)\n",
    "\n",
    "#a))))))))))))))\n",
    "black_wages = np.array(sample[sample['black'] == 1]['wage'])\n",
    "nonblack_wages = np.array(sample[sample['black'] != 1]['wage'])\n",
    "\n",
    "alpha = 0.01\n",
    "\n",
    "# Calculate the t-statistic and p-value using the ttest_ind function\n",
    "# t = (x1_bar - x2_bar) / sqrt[(s1^2 / n1) + (s2^2 / n2)]\n",
    "# s = sqrt(sum((x - x_bar)^2) / (n - 1))\n",
    "t_0, p_value = ttest_ind(black_wages, nonblack_wages, equal_var=True)\n",
    "\n",
    "t_alpha = st.ppf(1 - alpha, len(black_wages)+len(nonblack_wages)-2)\n",
    "# Print the results\n",
    "print(\"a)\")\n",
    "print(\"Null hypothesis: mean of black wage = mean of non-black wage\")\n",
    "print(\"t_0:\", t_0)\n",
    "print(\"t_alpha:\", t_alpha)\n",
    "if np.abs(t_0) > st.ppf(1-alpha/2, len(black_wages)+len(nonblack_wages)-2):\n",
    "    print(\"Reject the null hypothesis\")\n",
    "elif np.abs(t_0) < st.ppf(alpha/2, len(black_wages)+len(nonblack_wages)-2):\n",
    "    print(\"Reject the null hypothesis\")\n",
    "else:\n",
    "    print(\"Fail to reject the null hypothesis.\")\n",
    "\n",
    "#b))))))))))))))))\n",
    "black_iq = np.array(sample[sample['black'] == 1]['IQ'])\n",
    "nonblack_iq = np.array(sample[sample['black'] != 1]['IQ'])\n",
    "\n",
    "# Calculate the sample proportions and sizes\n",
    "p1 = np.sum(black_iq < 90) / len(black_iq)\n",
    "p2 = np.sum(nonblack_iq < 90) / len(nonblack_iq)\n",
    "\n",
    "n1 = len(black_iq)\n",
    "n2 = len(nonblack_iq)\n",
    "\n",
    "# Calculate the pooled proportion and standard error\n",
    "p_pool = (np.sum(black_iq < 90) + np.sum(nonblack_iq < 90)) / (n1 + n2)\n",
    "z_0 = (p1-p2)/np.sqrt((p_pool * (1 - p_pool) / n1) + (p_pool * (1 - p_pool) / n2))\n",
    "\n",
    "# Print the results\n",
    "print(\"b)\")\n",
    "print(\"Null hypothesis: proportion of blackIQ < 90 = proportion of non-blackIQ < 90\")\n",
    "print(\"z_0:\", z_0)\n",
    "print(\"z_alpha:\", stats.norm.ppf(1-0.05/2))\n",
    "if abs(z_0) > stats.norm.ppf(1-0.05/2):\n",
    "    print(\"Reject the null hypothesis.\")\n",
    "else:\n",
    "    print(\"Fail to reject the null hypothesis.\")\n",
    "    \n",
    "#c))))))))))))))))\n",
    "black_lwages = np.array(sample[sample['black'] == 1]['lwage'])\n",
    "nonblack_lwages = np.array(sample[sample['black'] != 1]['lwage'])\n",
    "\n",
    "alpha = 0.01\n",
    "f_stat, p_value = stats.f_oneway(black_lwages, nonblack_lwages)\n",
    "\n",
    "print(\"c)\")\n",
    "print(\"Null hypothesis: variance of black lwage = variance of non-black lwage\")\n",
    "print(\"p_value:\", p_value)\n",
    "print(\"alpha:\", alpha)\n",
    "if p_value/2 < alpha:\n",
    "    print(\"Reject the null hypothesis.\")\n",
    "else:\n",
    "    print(\"Fail to reject the null hypothesis\")"
   ]
  },
  {
   "cell_type": "code",
   "execution_count": null,
   "id": "84a75e50",
   "metadata": {},
   "outputs": [],
   "source": []
  }
 ],
 "metadata": {
  "kernelspec": {
   "display_name": "Python 3 (ipykernel)",
   "language": "python",
   "name": "python3"
  },
  "language_info": {
   "codemirror_mode": {
    "name": "ipython",
    "version": 3
   },
   "file_extension": ".py",
   "mimetype": "text/x-python",
   "name": "python",
   "nbconvert_exporter": "python",
   "pygments_lexer": "ipython3",
   "version": "3.9.13"
  }
 },
 "nbformat": 4,
 "nbformat_minor": 5
}
