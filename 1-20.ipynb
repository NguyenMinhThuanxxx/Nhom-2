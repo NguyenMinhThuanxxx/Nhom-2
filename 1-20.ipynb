{
 "cells": [
  {
   "cell_type": "code",
   "execution_count": 57,
   "id": "75732229",
   "metadata": {},
   "outputs": [],
   "source": [
    "import numpy as np\n",
    "import pandas as pd\n",
    "import math\n",
    "\n",
    "column_names = ['nearc4', 'educ', 'age', 'black', 'wage', 'IQ', 'married', 'exper', 'lwage', 'expersq']\n",
    "df = pd.read_csv('wage.csv')\n",
    "t = pd.DataFrame(df, columns = column_names)\n",
    "t.head()\n",
    "\n",
    "#sample\n",
    "sample = t.sample(n=30)"
   ]
  },
  {
   "cell_type": "code",
   "execution_count": 58,
   "id": "238e284e",
   "metadata": {},
   "outputs": [
    {
     "name": "stdout",
     "output_type": "stream",
     "text": [
      "1.\n",
      "Percent of black people:  23.35548172757475 %\n",
      "Number of black people in this sample of 30:  8\n",
      "The probability that there are 6 black ones:  16.2742603399912 %\n"
     ]
    }
   ],
   "source": [
    "from scipy.stats import binom\n",
    "print(\"1.\")\n",
    "\n",
    "black = t['black'] #table's black column\n",
    "blackPercent = np.sum(black)/len(black)\n",
    "print(\"Percent of black people: \", blackPercent*100, \"%\")\n",
    "t2 = sample #30 samples from original table, aka subsample\n",
    "black = t2['black']\n",
    "blackCount30 = np.sum(black)\n",
    "print(\"Number of black people in this sample of 30: \", blackCount30)\n",
    "#x = number of black people, n = sample size, p = blackPercent\n",
    "probabilityOf6Black = binom.pmf(6, 30, blackPercent)\n",
    "print(\"The probability that there are 6 black ones: \", probabilityOf6Black*100, \"%\")"
   ]
  },
  {
   "cell_type": "code",
   "execution_count": 59,
   "id": "e94a8a5b",
   "metadata": {},
   "outputs": [
    {
     "name": "stdout",
     "output_type": "stream",
     "text": [
      "2.\n",
      "Number of black people in this sample of 5:  1\n",
      "Probability of at least 1 in 5 people is black:  81.52077807250221 %\n"
     ]
    }
   ],
   "source": [
    "from scipy.stats import hypergeom\n",
    "print(\"2.\")\n",
    "\n",
    "t3 = t2.sample(n=5) #5 samples from table of 30\n",
    "black = t3['black']\n",
    "print(\"Number of black people in this sample of 5: \", np.sum(black)) \n",
    "#x = number of black people that we want, N = original size, K = number of black people that are already in, n = size that we choose to pick\n",
    "probabilityAtLeast1Black = 1 - hypergeom.pmf(0, 30, blackCount30, 5)\n",
    "print(\"Probability of at least 1 in 5 people is black: \", probabilityAtLeast1Black*100, \"%\")"
   ]
  },
  {
   "cell_type": "code",
   "execution_count": 60,
   "id": "17484dd3",
   "metadata": {},
   "outputs": [
    {
     "name": "stdout",
     "output_type": "stream",
     "text": [
      "3.\n",
      "Percent of black people:  0.26578073089701 %\n",
      "a) Number of black people I expect:  0\n",
      "b) Number of black people in the data:  0\n"
     ]
    }
   ],
   "source": [
    "print(\"3.\")\n",
    "\n",
    "newT = pd.DataFrame({'black': [1]*blackCount30 + [0]*(len(df)-blackCount30)}) #generate new table with black count = subsample's black count\n",
    "black = newT['black'] #table's black column\n",
    "blackPercent = np.sum(black)/len(black)\n",
    "print(\"Percent of black people: \", blackPercent*100, \"%\")\n",
    "newT2 = newT.sample(n=30)\n",
    "black = newT2['black']\n",
    "newBlackCount30 = np.sum(black)\n",
    "print(\"a) Number of black people I expect: \", 0)\n",
    "print(\"b) Number of black people in the data: \", newBlackCount30)"
   ]
  },
  {
   "cell_type": "code",
   "execution_count": 61,
   "id": "785bc527",
   "metadata": {},
   "outputs": [
    {
     "name": "stdout",
     "output_type": "stream",
     "text": [
      "4.\n",
      "The probability of choosing a person with 6 years of education: 1.4356136022729584 %\n"
     ]
    }
   ],
   "source": [
    "print(\"4.\")\n",
    "\n",
    "educ = t2['educ']\n",
    "sampleMean = np.sum(educ)/len(educ)\n",
    "#math.exp(x) = e^x; P(X = k) = (e^(-mean)*mean^k)/k!\n",
    "prob6Educ = (math.exp(-sampleMean) * np.power(sampleMean, 6)) / math.factorial(6)\n",
    "print(\"The probability of choosing a person with 6 years of education:\", prob6Educ*100, \"%\")"
   ]
  },
  {
   "cell_type": "code",
   "execution_count": 62,
   "id": "796d861f",
   "metadata": {},
   "outputs": [
    {
     "name": "stdout",
     "output_type": "stream",
     "text": [
      "5.\n",
      "Mean:  29.0 , Variance:  10.0\n",
      "Sample mean:  28.5 , Sample variance:  8.25\n"
     ]
    },
    {
     "data": {
      "image/png": "[encoded data removed]",
      "text/plain": [
       "<Figure size 640x480 with 1 Axes>"
      ]
     },
     "metadata": {},
     "output_type": "display_data"
    },
    {
     "name": "stdout",
     "output_type": "stream",
     "text": [
      "Based on the survey's data, age is not a uniform distribution.\n"
     ]
    }
   ],
   "source": [
    "import matplotlib.pyplot as plt\n",
    "print(\"5.\")\n",
    "\n",
    "a = 24\n",
    "b = 34\n",
    "mean = (a + b)/2\n",
    "variance = (np.power((b - a + 1), 2) - 1)/12\n",
    "# print(\"Min: \", a, \", Max: \", b)\n",
    "print(\"Mean: \", mean, \", Variance: \", variance)\n",
    "a = t2['age'].min()\n",
    "b = t2['age'].max()\n",
    "meanSample = (a + b)/2\n",
    "varianceSample = (np.power((b - a + 1), 2) - 1)/12\n",
    "# print(\"Sample min: \", a, \", Sample max: \", b)\n",
    "print(\"Sample mean: \", meanSample, \", Sample variance: \", varianceSample)\n",
    "\n",
    "tAge = t['age'].value_counts()\n",
    "tAge = tAge.sort_index(ascending=True)\n",
    "# print(tAge)\n",
    "\n",
    "# Define the data for the bar chart\n",
    "x_values = tAge.index.tolist()\n",
    "y_values = tAge.values.tolist()\n",
    "\n",
    "# Create the bar chart\n",
    "plt.bar(x_values, y_values)\n",
    "\n",
    "# Add labels for the x and y axis and a title\n",
    "plt.xlabel(\"Age  (int)\")\n",
    "plt.ylabel(\"Population (person)\")\n",
    "plt.title('Age Chart')\n",
    "\n",
    "# Display the bar chart\n",
    "plt.show()\n",
    "\n",
    "print(\"Based on the survey's data, age is not a uniform distribution.\")"
   ]
  },
  {
   "cell_type": "code",
   "execution_count": 63,
   "id": "7c250ed6",
   "metadata": {},
   "outputs": [
    {
     "name": "stdout",
     "output_type": "stream",
     "text": [
      "6.\n",
      "The probability of lwage being between 5 and 6 is: 0.2752\n"
     ]
    }
   ],
   "source": [
    "from scipy.stats import norm\n",
    "print(\"6.\")\n",
    "\n",
    "# set the mean and standard deviation\n",
    "mu = 6.26\n",
    "sigma = 0.44\n",
    "\n",
    "# find the z-scores for the lower and upper bounds\n",
    "z1 = (5 - mu) / sigma\n",
    "z2 = (6 - mu) / sigma\n",
    "\n",
    "# find the probability using the cumulative distribution function\n",
    "prob = norm.cdf(z2) - norm.cdf(z1)\n",
    "\n",
    "# print the result\n",
    "print(\"The probability of lwage being between 5 and 6 is:\", round(prob, 4))"
   ]
  },
  {
   "cell_type": "code",
   "execution_count": 64,
   "id": "6aec22e5",
   "metadata": {},
   "outputs": [
    {
     "name": "stdout",
     "output_type": "stream",
     "text": [
      "7.\n",
      "a) The probability that the sample mean of IQ lies in [100, 110] is: 0.4265\n",
      "b) The sample size needed for a standard error of 1 is: 226\n"
     ]
    }
   ],
   "source": [
    "import numpy as np\n",
    "from scipy.stats import norm\n",
    "print(\"7.\")\n",
    "\n",
    "t2= t.sample(n=20)\n",
    "IQ= t2['IQ']\n",
    "\n",
    "# set the population mean and standard deviation\n",
    "mu = np.mean(IQ)\n",
    "sigma = np.std(IQ)\n",
    "\n",
    "# set the sample size\n",
    "n = 20\n",
    "\n",
    "# calculate the standard deviation of the sample mean\n",
    "se = sigma / np.sqrt(n)\n",
    "\n",
    "# calculate the z-scores for the lower and upper bounds\n",
    "z1 = (100 - mu) / se\n",
    "z2 = (110 - mu) / se\n",
    "\n",
    "# find the probability using the cumulative distribution function\n",
    "prob = norm.cdf(z2) - norm.cdf(z1)\n",
    "\n",
    "# print the result\n",
    "print(\"a) The probability that the sample mean of IQ lies in [100, 110] is:\", round(prob, 4))\n",
    "\n",
    "# find the sample size for a standard error of 1\n",
    "n = int(np.ceil(sigma**2))\n",
    "\n",
    "# print the result\n",
    "print(\"b) The sample size needed for a standard error of 1 is:\", n)"
   ]
  },
  {
   "cell_type": "code",
   "execution_count": 65,
   "id": "018ec7c6",
   "metadata": {},
   "outputs": [
    {
     "name": "stdout",
     "output_type": "stream",
     "text": [
      "8.\n",
      "Summary statistics for wage:\n",
      " count    3010.000000\n",
      "mean      577.282392\n",
      "std       262.958302\n",
      "min       100.000000\n",
      "25%       394.250000\n",
      "50%       537.500000\n",
      "75%       708.750000\n",
      "max      2404.000000\n",
      "Name: wage, dtype: float64\n",
      "\n",
      "Summary statistics for IQ:\n",
      " count    2061.000000\n",
      "mean      102.449782\n",
      "std        15.423756\n",
      "min        50.000000\n",
      "25%        93.000000\n",
      "50%       103.000000\n",
      "75%       113.000000\n",
      "max       149.000000\n",
      "Name: IQ, dtype: float64\n",
      "\n",
      "Summary statistics for educ:\n",
      " count    3010.000000\n",
      "mean       13.263455\n",
      "std         2.676913\n",
      "min         1.000000\n",
      "25%        12.000000\n",
      "50%        13.000000\n",
      "75%        16.000000\n",
      "max        18.000000\n",
      "Name: educ, dtype: float64\n",
      "\n",
      "Summary statistics for exper:\n",
      " count    3010.000000\n",
      "mean        8.856146\n",
      "std         4.141672\n",
      "min         0.000000\n",
      "25%         6.000000\n",
      "50%         8.000000\n",
      "75%        11.000000\n",
      "max        23.000000\n",
      "Name: exper, dtype: float64\n"
     ]
    }
   ],
   "source": [
    "import pandas as pd\n",
    "print(\"8.\")\n",
    "\n",
    "# read the data into a DataFrame object\n",
    "data = pd.read_csv(\"wage.csv\")\n",
    "\n",
    "# calculate the summary statistics for each variable\n",
    "wage_stats = data[\"wage\"].describe()\n",
    "iq_stats = data[\"IQ\"].describe()\n",
    "educ_stats = data[\"educ\"].describe()\n",
    "exper_stats = data[\"exper\"].describe()\n",
    "\n",
    "# print the summary statistics\n",
    "print(\"Summary statistics for wage:\\n\", wage_stats)\n",
    "print('')\n",
    "print(\"Summary statistics for IQ:\\n\", iq_stats)\n",
    "print('')\n",
    "print(\"Summary statistics for educ:\\n\", educ_stats)\n",
    "print('')\n",
    "print(\"Summary statistics for exper:\\n\", exper_stats)"
   ]
  },
  {
   "cell_type": "code",
   "execution_count": 66,
   "id": "e5a5f255",
   "metadata": {},
   "outputs": [
    {
     "name": "stdout",
     "output_type": "stream",
     "text": [
      "9.\n",
      "The point estimation of mean of IQ is: 102.45\n",
      "The point estimation of variance of IQ is: 237.89\n"
     ]
    }
   ],
   "source": [
    "import pandas as pd\n",
    "print(\"9.\")\n",
    "\n",
    "# read the data into a DataFrame object\n",
    "data = pd.read_csv(\"wage.csv\")\n",
    "\n",
    "# calculate the sample mean and sample variance of IQ\n",
    "iq_mean = data[\"IQ\"].mean()\n",
    "iq_var = data[\"IQ\"].var()\n",
    "\n",
    "# print the point estimates\n",
    "print(\"The point estimation of mean of IQ is:\", round(iq_mean, 2))\n",
    "print(\"The point estimation of variance of IQ is:\", round(iq_var, 2))"
   ]
  },
  {
   "cell_type": "code",
   "execution_count": 67,
   "id": "d1ea8458",
   "metadata": {},
   "outputs": [
    {
     "name": "stdout",
     "output_type": "stream",
     "text": [
      "10.\n",
      "95% Confidence Interval: (6.29, 6.32)\n"
     ]
    }
   ],
   "source": [
    "import scipy.stats as stats\n",
    "print(\"10.\")\n",
    "\n",
    "lwage_std_dev = 0.44   # standard deviation of lwage\n",
    "n = len(t['lwage']) \n",
    "\n",
    "# The 95% confidence level corresponds to a significance level of alpha = 0.05\n",
    "alpha = 0.05\n",
    "\n",
    "# Calculate the critical value using the t-distribution\n",
    "df = n - 1   # degrees of freedom\n",
    "t_crit = stats.t.ppf(1 - alpha/2, df)\n",
    "\n",
    "# Calculate the margin of error\n",
    "margin_of_error = t_crit * (lwage_std_dev / (n**0.5))\n",
    "\n",
    "# Calculate the confidence interval\n",
    "lwage_mean = 6.306275   # assumed mean value of lwage\n",
    "lower_bound = lwage_mean - margin_of_error\n",
    "upper_bound = lwage_mean + margin_of_error\n",
    "\n",
    "print(\"95% Confidence Interval: ({:.2f}, {:.2f})\".format(lower_bound, upper_bound))"
   ]
  },
  {
   "cell_type": "code",
   "execution_count": 68,
   "id": "85e95293",
   "metadata": {},
   "outputs": [
    {
     "name": "stdout",
     "output_type": "stream",
     "text": [
      "11.\n",
      "Sample mean: 100.37\n",
      "Margin of error: 5.53\n",
      "Confidence interval: (94.84, 105.90)\n"
     ]
    }
   ],
   "source": [
    "import pandas as pd\n",
    "import numpy as np\n",
    "from scipy.stats import t\n",
    "print(\"11.\")\n",
    "\n",
    "# Read data from CSV file\n",
    "df = pd.read_csv(\"wage.csv\")\n",
    "\n",
    "# Remove NaN values from IQ column\n",
    "df = df[~np.isnan(df[\"IQ\"])]\n",
    "\n",
    "# Extract IQ data from table\n",
    "sample_iq = df[\"IQ\"].sample(30).tolist()\n",
    "\n",
    "# Calculate sample mean and standard deviation\n",
    "sample_mean = np.mean(sample_iq)\n",
    "sample_std = np.std(sample_iq, ddof=1)\n",
    "\n",
    "# Set confidence level\n",
    "confidence_level = 0.96\n",
    "\n",
    "# Calculate degrees of freedom\n",
    "df = len(sample_iq) - 1\n",
    "\n",
    "# Calculate critical value\n",
    "alpha = 1 - confidence_level\n",
    "t_crit = t.ppf(1 - alpha/2, df)\n",
    "\n",
    "# Calculate margin of error\n",
    "moe = t_crit * sample_std / np.sqrt(len(sample_iq))\n",
    "\n",
    "# Calculate lower and upper bounds of confidence interval\n",
    "lower_bound = sample_mean - moe\n",
    "upper_bound = sample_mean + moe\n",
    "\n",
    "# Print results\n",
    "print(\"Sample mean: {:.2f}\".format(sample_mean))\n",
    "print(\"Margin of error: {:.2f}\".format(moe))\n",
    "print(\"Confidence interval: ({:.2f}, {:.2f})\".format(lower_bound, upper_bound))"
   ]
  },
  {
   "cell_type": "code",
   "execution_count": 69,
   "id": "2a3ccffb",
   "metadata": {},
   "outputs": [
    {
     "name": "stdout",
     "output_type": "stream",
     "text": [
      "12.\n",
      "The required sample size is: 19.0\n"
     ]
    }
   ],
   "source": [
    "import pandas as pd\n",
    "import numpy as np\n",
    "from scipy import stats\n",
    "print(\"12.\")\n",
    "\n",
    "# load data from csv file\n",
    "data = pd.read_csv('wage.csv')\n",
    "\n",
    "# calculate required sample size\n",
    "z_score = stats.norm.ppf(0.975)  # for 95% confidence 2 sides\n",
    "sigma = 0.44\n",
    "error = 0.2\n",
    "n = ((z_score * sigma) / error) ** 2\n",
    "\n",
    "print(\"The required sample size is:\", np.ceil(n))"
   ]
  },
  {
   "cell_type": "code",
   "execution_count": 70,
   "id": "e6e4b5d1",
   "metadata": {},
   "outputs": [
    {
     "name": "stdout",
     "output_type": "stream",
     "text": [
      "13.\n",
      "The 99% confidence interval is: (0.6816998921586691, 0.6824197091702345)\n"
     ]
    }
   ],
   "source": [
    "import pandas as pd\n",
    "from scipy import stats\n",
    "print(\"13.\")\n",
    "\n",
    "# load data from csv file\n",
    "data = pd.read_csv('wage.csv')\n",
    "\n",
    "# calculate sample proportion of nearc4\n",
    "p_hat = data['nearc4'].sum() / len(data)\n",
    "\n",
    "# calculate standard deviation of population\n",
    "sigma = ((p_hat * (1 - p_hat)) / len(data)) ** 0.5\n",
    "\n",
    "# calculate z-score for 99% confidence interval\n",
    "z_score = stats.norm.ppf(0.99)\n",
    "\n",
    "# calculate margin of error and confidence interval\n",
    "margin_of_error = z_score * (sigma / (len(data) ** 0.5))\n",
    "confidence_interval = (p_hat - margin_of_error, p_hat + margin_of_error)\n",
    "\n",
    "print(\"The 99% confidence interval is:\", confidence_interval)"
   ]
  },
  {
   "cell_type": "code",
   "execution_count": 71,
   "id": "a6864767",
   "metadata": {},
   "outputs": [
    {
     "name": "stdout",
     "output_type": "stream",
     "text": [
      "14.\n",
      "Proportion of blacks: 0.0726\n",
      "99% Confidence interval: [0.0664, 0.0787]\n",
      "Sample size should be used: 9688\n"
     ]
    }
   ],
   "source": [
    "import pandas as pd\n",
    "from scipy.stats import norm\n",
    "print(\"14.\")\n",
    "\n",
    "# load data from wage.csv file\n",
    "df = pd.read_csv(\"wage.csv\")\n",
    "\n",
    "# find critical value for 99% confidence level\n",
    "Z = norm.ppf(0.99)\n",
    "\n",
    "# calculate sample size for proportion\n",
    "p_hat = df[df[\"black\"] == 1][\"black\"].count()/len(df)\n",
    "E = 0.01\n",
    "n = (Z**2 * p_hat * (1 - p_hat)) / E**2\n",
    "\n",
    "# round up the sample size to the nearest integer\n",
    "n = int(round(n))\n",
    "\n",
    "# count the number of observations where black=1\n",
    "num_black = df[df[\"black\"] == 1][\"black\"].count()\n",
    "\n",
    "# calculate the proportion of blacks in the sample\n",
    "p = num_black / n\n",
    "\n",
    "# calculate the lower and upper bounds of the confidence interval\n",
    "lower = p - Z * (p*(1-p)/n)**0.5\n",
    "upper = p + Z * (p*(1-p)/n)**0.5\n",
    "\n",
    "# print the results\n",
    "print(f\"Proportion of blacks: {p:.4f}\")\n",
    "print(f\"99% Confidence interval: [{lower:.4f}, {upper:.4f}]\")\n",
    "print(f\"Sample size should be used: {n}\")"
   ]
  },
  {
   "cell_type": "code",
   "execution_count": 72,
   "id": "8c2ba625",
   "metadata": {},
   "outputs": [
    {
     "name": "stdout",
     "output_type": "stream",
     "text": [
      "15.\n",
      "Null hypothesis: mean(IQ) = 100, Alternate hypothesis: mean(IQ) != 100\n",
      "z_0: 1.8761663039293721\n",
      "z_alpha: (-2.3263478740408408, 2.3263478740408408)\n",
      "Fail to reject the null hypothesis\n"
     ]
    }
   ],
   "source": [
    "# question_15\n",
    "import numpy as np\n",
    "from scipy.stats import norm\n",
    "print(\"15.\")\n",
    "print(\"Null hypothesis: mean(IQ) = 100, Alternate hypothesis: mean(IQ) != 100\")\n",
    "\n",
    "df = pd.read_csv('wage.csv')\n",
    "t = pd.DataFrame(df, columns = column_names)\n",
    "\n",
    "# Define the sample data\n",
    "sample = t['IQ'].sample(n=30)\n",
    "\n",
    "# Remove the NaN values\n",
    "sample = np.array(sample)\n",
    "sample = sample[~np.isnan(sample)]\n",
    "\n",
    "# Define the null and alternative hypotheses\n",
    "mu_0 = 100\n",
    "alpha = 0.02\n",
    "n = len(sample)\n",
    "std = 15\n",
    "\n",
    "# Calculate the test statistic\n",
    "z_0 = (np.mean(sample) - mu_0) / (std / np.sqrt(n))\n",
    "\n",
    "# Calculate the critical values\n",
    "z_alpha = norm.ppf(alpha/2), norm.ppf(1-alpha/2)\n",
    "\n",
    "print(\"z_0:\", z_0)\n",
    "print(\"z_alpha:\", z_alpha)\n",
    "\n",
    "# Make a decision and interpret the results\n",
    "if np.abs(z_0) > norm.ppf(1-alpha/2):\n",
    "    print(\"Reject the null hypothesis\")\n",
    "elif np.abs(z_0) < norm.ppf(alpha/2):\n",
    "    print(\"Reject the null hypothesis\")\n",
    "else:\n",
    "    print(\"Fail to reject the null hypothesis\")"
   ]
  },
  {
   "cell_type": "code",
   "execution_count": 73,
   "id": "ce87e995",
   "metadata": {},
   "outputs": [
    {
     "name": "stdout",
     "output_type": "stream",
     "text": [
      "16.\n",
      "Null hypothesis: mean(lwage) = 6, Alternate hypothesis: mean(lwage) > 6 \n",
      "t_0: 3.32\n",
      "t_alpha: 1.31\n",
      "Reject null hypothesis\n"
     ]
    }
   ],
   "source": [
    "# question_16\n",
    "import numpy as np\n",
    "from scipy.stats import t as st\n",
    "import pandas as pd\n",
    "print(\"16.\")\n",
    "print(\"Null hypothesis: mean(lwage) = 6, Alternate hypothesis: mean(lwage) > 6 \")\n",
    "\n",
    "sample = t['lwage'].sample(n=30)\n",
    "lwage = np.array(sample)\n",
    "\n",
    "# calculate sample mean, standard deviation, and size\n",
    "x_bar = np.mean(lwage)\n",
    "s = np.std(lwage, ddof=1)\n",
    "n = len(lwage)\n",
    "\n",
    "# set null hypothesis and significance level\n",
    "mu_0 = 6\n",
    "alpha = 0.1\n",
    "\n",
    "# calculate t-statistic\n",
    "t_0 = (x_bar - mu_0) / (s / np.sqrt(n))\n",
    "print(\"t_0: {:.2f}\".format(t_0))\n",
    "\n",
    "# find critical value\n",
    "df = n - 1\n",
    "t_alpha = st.ppf(1 - alpha, df)\n",
    "print(\"t_alpha: {:.2f}\".format(t_alpha))\n",
    "\n",
    "# check\n",
    "if t_0 > t_alpha:\n",
    "    print(\"Reject null hypothesis\")\n",
    "else:\n",
    "    print(\"Fail to reject null hypothesis\")"
   ]
  },
  {
   "cell_type": "code",
   "execution_count": 74,
   "id": "9e886886",
   "metadata": {},
   "outputs": [
    {
     "name": "stdout",
     "output_type": "stream",
     "text": [
      "17.\n",
      "Null hypothesis: proportion with exper < 10 is <= 0.07\n",
      "z_0 : 117.11\n",
      "z_alpha : 2.05\n",
      "Reject the null hypothesis\n"
     ]
    }
   ],
   "source": [
    "# question_17:\n",
    "import math\n",
    "from scipy.stats import norm\n",
    "print(\"17.\")\n",
    "print(\"Null hypothesis: proportion with exper < 10 is <= 0.07\")\n",
    "\n",
    "# Sample size\n",
    "n = len(t['exper'])\n",
    "\n",
    "# Number of people with less than 10 years of work experience\n",
    "x = len(t[t['exper'] < 10])\n",
    "\n",
    "# Null hypothesis proportion\n",
    "p0 = 0.07\n",
    "\n",
    "# Sample proportion\n",
    "p_hat = x / n\n",
    "\n",
    "# Test statistic\n",
    "z0 = (p_hat - p0) / math.sqrt(p0*(1-p0)/n)\n",
    "\n",
    "# Calculate the critical value for one-tailed test with alpha=0.02\n",
    "alpha = 0.02\n",
    "z_alpha = norm.ppf(1-alpha, loc=0, scale=1)\n",
    "\n",
    "print(\"z_0 : {:.2f}\".format(z0))\n",
    "print(\"z_alpha : {:.2f}\".format(z_alpha))\n",
    "\n",
    "# Check \n",
    "if z0 > z_alpha:\n",
    "    print(\"Reject the null hypothesis\")\n",
    "else:\n",
    "    print(\"Fail to reject the null hypothesis\")"
   ]
  },
  {
   "cell_type": "code",
   "execution_count": 75,
   "id": "94d152fb",
   "metadata": {},
   "outputs": [
    {
     "name": "stdout",
     "output_type": "stream",
     "text": [
      "18.\n",
      "a)\n",
      "Null hypothesis: mean of black wage = mean of non-black wage\n",
      "t_0: -3.0436434800464225\n",
      "t_alpha: 2.4671400979674316\n",
      "Reject the null hypothesis\n",
      "b)\n",
      "Null hypothesis: proportion of blackIQ < 90 = proportion of non-blackIQ < 90\n",
      "z_0: -1.0072203103706698\n",
      "z_alpha: 1.959963984540054\n",
      "Fail to reject the null hypothesis.\n",
      "c)\n",
      "Null hypothesis: variance of black lwage = variance of non-black lwage\n",
      "p_value: 0.0015322409637097932\n",
      "alpha: 0.01\n",
      "Reject the null hypothesis.\n"
     ]
    }
   ],
   "source": [
    "# question_18:\n",
    "import numpy as np\n",
    "import scipy.stats as stats\n",
    "from scipy.stats import ttest_ind\n",
    "print(\"18.\")\n",
    "\n",
    "#sample\n",
    "sample = t.sample(n=30)\n",
    "\n",
    "#a))))))))))))))\n",
    "black_wages = np.array(sample[sample['black'] == 1]['wage'])\n",
    "nonblack_wages = np.array(sample[sample['black'] != 1]['wage'])\n",
    "\n",
    "alpha = 0.01\n",
    "\n",
    "# Calculate the t-statistic and p-value using the ttest_ind function\n",
    "# t = (x1_bar - x2_bar) / sqrt[(s1^2 / n1) + (s2^2 / n2)]\n",
    "# s = sqrt(sum((x - x_bar)^2) / (n - 1))\n",
    "t_0, p_value = ttest_ind(black_wages, nonblack_wages, equal_var=True)\n",
    "\n",
    "t_alpha = st.ppf(1 - alpha, len(black_wages)+len(nonblack_wages)-2)\n",
    "# Print the results\n",
    "print(\"a)\")\n",
    "print(\"Null hypothesis: mean of black wage = mean of non-black wage\")\n",
    "print(\"t_0:\", t_0)\n",
    "print(\"t_alpha:\", t_alpha)\n",
    "if np.abs(t_0) > st.ppf(1-alpha/2, len(black_wages)+len(nonblack_wages)-2):\n",
    "    print(\"Reject the null hypothesis\")\n",
    "elif np.abs(t_0) < st.ppf(alpha/2, len(black_wages)+len(nonblack_wages)-2):\n",
    "    print(\"Reject the null hypothesis\")\n",
    "else:\n",
    "    print(\"Fail to reject the null hypothesis.\")\n",
    "\n",
    "#b))))))))))))))))\n",
    "black_iq = np.array(sample[sample['black'] == 1]['IQ'])\n",
    "nonblack_iq = np.array(sample[sample['black'] != 1]['IQ'])\n",
    "\n",
    "# Calculate the sample proportions and sizes\n",
    "p1 = np.sum(black_iq < 90) / len(black_iq)\n",
    "p2 = np.sum(nonblack_iq < 90) / len(nonblack_iq)\n",
    "\n",
    "n1 = len(black_iq)\n",
    "n2 = len(nonblack_iq)\n",
    "\n",
    "# Calculate the pooled proportion and standard error\n",
    "p_pool = (np.sum(black_iq < 90) + np.sum(nonblack_iq < 90)) / (n1 + n2)\n",
    "z_0 = (p1-p2)/np.sqrt((p_pool * (1 - p_pool) / n1) + (p_pool * (1 - p_pool) / n2))\n",
    "\n",
    "# Print the results\n",
    "print(\"b)\")\n",
    "print(\"Null hypothesis: proportion of blackIQ < 90 = proportion of non-blackIQ < 90\")\n",
    "print(\"z_0:\", z_0)\n",
    "print(\"z_alpha:\", stats.norm.ppf(1-0.05/2))\n",
    "if abs(z_0) > stats.norm.ppf(1-0.05/2):\n",
    "    print(\"Reject the null hypothesis.\")\n",
    "else:\n",
    "    print(\"Fail to reject the null hypothesis.\")\n",
    "    \n",
    "#c))))))))))))))))\n",
    "black_lwages = np.array(sample[sample['black'] == 1]['lwage'])\n",
    "nonblack_lwages = np.array(sample[sample['black'] != 1]['lwage'])\n",
    "\n",
    "alpha = 0.01\n",
    "f_stat, p_value = stats.f_oneway(black_lwages, nonblack_lwages)\n",
    "\n",
    "print(\"c)\")\n",
    "print(\"Null hypothesis: variance of black lwage = variance of non-black lwage\")\n",
    "print(\"p_value:\", p_value)\n",
    "print(\"alpha:\", alpha)\n",
    "if p_value/2 < alpha:\n",
    "    print(\"Reject the null hypothesis.\")\n",
    "else:\n",
    "    print(\"Fail to reject the null hypothesis.\")"
   ]
  },
  {
   "cell_type": "code",
   "execution_count": 76,
   "id": "84a75e50",
   "metadata": {},
   "outputs": [
    {
     "name": "stdout",
     "output_type": "stream",
     "text": [
      "19.\n",
      "                            OLS Regression Results                            \n",
      "==============================================================================\n",
      "Dep. Variable:                   wage   R-squared:                       0.298\n",
      "Model:                            OLS   Adj. R-squared:                  0.273\n",
      "Method:                 Least Squares   F-statistic:                     11.87\n",
      "Date:                Thu, 23 Mar 2023   Prob (F-statistic):            0.00182\n",
      "Time:                        15:10:15   Log-Likelihood:                -206.45\n",
      "No. Observations:                  30   AIC:                             416.9\n",
      "Df Residuals:                      28   BIC:                             419.7\n",
      "Df Model:                           1                                         \n",
      "Covariance Type:            nonrobust                                         \n",
      "==============================================================================\n",
      "                 coef    std err          t      P>|t|      [0.025      0.975]\n",
      "------------------------------------------------------------------------------\n",
      "const         17.5614    173.452      0.101      0.920    -337.739     372.862\n",
      "educ          45.2380     13.131      3.445      0.002      18.341      72.135\n",
      "==============================================================================\n",
      "Omnibus:                        1.018   Durbin-Watson:                   2.265\n",
      "Prob(Omnibus):                  0.601   Jarque-Bera (JB):                0.963\n",
      "Skew:                           0.390   Prob(JB):                        0.618\n",
      "Kurtosis:                       2.598   Cond. No.                         51.7\n",
      "==============================================================================\n",
      "\n",
      "Notes:\n",
      "[1] Standard Errors assume that the covariance matrix of the errors is correctly specified.\n",
      "a)\n",
      "Slope coefficient (B1):  45.23800791429401\n",
      "Intercept (B0):  17.561432294179696\n",
      "b)\n",
      "Null hypothesis (H0: B1 = 0)\n",
      "Alpha: 0.1\n",
      "p-value for B1: 0.0018170950836636074\n",
      "Reject the null hypothesis.\n",
      "c)\n",
      "Coefficient of determination:  0.297713962633646\n",
      "About 29.77% of the  variation in wages can be explained by the educ level\n"
     ]
    }
   ],
   "source": [
    "#question_19\n",
    "import statsmodels.api as sm\n",
    "print(\"19.\")\n",
    "\n",
    "# define the dependent and independent variables\n",
    "y = sample['wage']\n",
    "X = sample['educ']\n",
    "\n",
    "# add a constant to the independent variable\n",
    "X = sm.add_constant(X)\n",
    "\n",
    "# fit the regression model\n",
    "model = sm.OLS(y, X).fit()\n",
    "\n",
    "# print the model summary\n",
    "print(model.summary())\n",
    "\n",
    "B1 = model.params['educ']\n",
    "B0 = model.params['const']\n",
    "p_value = model.pvalues['educ']\n",
    "r_squared = model.rsquared\n",
    "\n",
    "print(\"a)\")\n",
    "print(\"Slope coefficient (B1): \", B1)\n",
    "print(\"Intercept (B0): \", B0)\n",
    "\n",
    "print(\"b)\")\n",
    "print(\"Null hypothesis (H0: B1 = 0)\")\n",
    "print(\"Alpha:\", 0.1)\n",
    "print('p-value for B1:', p_value)\n",
    "if p_value < alpha:\n",
    "    print(\"Reject the null hypothesis.\")\n",
    "else:\n",
    "    print(\"Fail to reject the null hypothesis.\")\n",
    "    \n",
    "print(\"c)\")\n",
    "print(\"Coefficient of determination: \", r_squared)\n",
    "print(\"About {:.2f}% of the  variation in wages can be explained by the educ level\".format(r_squared*100))"
   ]
  },
  {
   "cell_type": "code",
   "execution_count": 77,
   "id": "76039059",
   "metadata": {},
   "outputs": [
    {
     "name": "stdout",
     "output_type": "stream",
     "text": [
      "20.\n",
      "Coefficient of determination educ on wage:  0.297713962633646\n",
      "Coefficient of determination educ on lwage:  0.33157096168186917\n",
      "The model of educ on lwage is better because it has higher coefficient of determination.\n"
     ]
    }
   ],
   "source": [
    "#question_20\n",
    "print(\"20.\")\n",
    "r_squared1 = r_squared\n",
    "print(\"Coefficient of determination educ on wage: \", r_squared1)\n",
    "\n",
    "X = sample['educ']\n",
    "y = sample['lwage']\n",
    "\n",
    "# add constant term to X\n",
    "X = sm.add_constant(X)\n",
    "\n",
    "# fit OLS regression model\n",
    "model = sm.OLS(y, X).fit()\n",
    "\n",
    "r_squared2 = model.rsquared\n",
    "print(\"Coefficient of determination educ on lwage: \", r_squared2)\n",
    "if r_squared1 < r_squared2:\n",
    "    print(\"The model of educ on lwage is better because it has higher coefficient of determination.\")\n",
    "else:\n",
    "    print(\"The model of educ on wage is better because it has higher coefficient of determination.\")"
   ]
  },
  {
   "cell_type": "code",
   "execution_count": null,
   "id": "fbaf226d",
   "metadata": {},
   "outputs": [],
   "source": []
  }
 ],
 "metadata": {
  "kernelspec": {
   "display_name": "Python 3 (ipykernel)",
   "language": "python",
   "name": "python3"
  },
  "language_info": {
   "codemirror_mode": {
    "name": "ipython",
    "version": 3
   },
   "file_extension": ".py",
   "mimetype": "text/x-python",
   "name": "python",
   "nbconvert_exporter": "python",
   "pygments_lexer": "ipython3",
   "version": "3.9.13"
  }
 },
 "nbformat": 4,
 "nbformat_minor": 5
}
